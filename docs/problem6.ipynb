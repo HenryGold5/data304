{
 "cells": [
  {
   "cell_type": "markdown",
   "metadata": {},
   "source": [
    "**Keep Learning**"
   ]
  },
  {
   "cell_type": "markdown",
   "metadata": {},
   "source": [
    "a. To create the ranged dot plot or dumbbell chart I used vega-altair's example which is found here https://altair-viz.github.io/gallery/ranged_dot_plot.html. \n",
    "\n",
    "b. The other time I had to go to documentation to figure out how something was done was by going to vegalite mto help with highlighting a line which is found here https://altair-viz.github.io/gallery/multiline_highlight.html."
   ]
  },
  {
   "cell_type": "markdown",
   "metadata": {},
   "source": [
    "a. Used this resource in wilke https://clauswilke.com/dataviz/time-series.html to help bring clarity to the fact that for my time series data I wanted no dots because in this graphic I wanted to emphasize the overall trend and with dots it is just a more busy graphic and unneccesary information.\n",
    "\n",
    "b. Finally this resource helped me when trying to decide whether I wanted side by side bar charts or stacked bar charts for the ancestry excercise https://clauswilke.com/dataviz/visualizing-proportions.html. I ended up choosing side-by-side because of what reading I found in this chapter."
   ]
  }
 ],
 "metadata": {
  "language_info": {
   "name": "python"
  },
  "orig_nbformat": 4
 },
 "nbformat": 4,
 "nbformat_minor": 2
}
