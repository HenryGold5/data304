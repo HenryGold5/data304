{
 "cells": [
  {
   "cell_type": "markdown",
   "metadata": {},
   "source": [
    "**Using your palette**"
   ]
  },
  {
   "cell_type": "markdown",
   "metadata": {},
   "source": [
    "a. Favorite example of this was in the Tanzania graph where I used stroke dash for the line chart to convey which line it was along with color.\n",
    "\n",
    "b. Used faceting in both of my graphs for problem 1 regarding the DNA testing among twins.\n",
    "\n",
    "c. Used layers for both the excercise 2 to highlight the different lines as well as in the masterpeice graphic with the dumbbell chart.\n",
    "\n",
    "d. Used concatenation in the masterpiece chart to put the difference numbers right next to the graphic.\n",
    "\n",
    "e. Problem 2 I had to use a non-default configuration for the scale because needed to restrict the years to be in a specific domain that didn't start with 0.\n",
    "\n",
    "f. My favorite interaction was the highlight found in excercise 2 but also used tool tip throughout graphics because easy to implement and useful in reading data."
   ]
  }
 ],
 "metadata": {
  "language_info": {
   "name": "python"
  },
  "orig_nbformat": 4
 },
 "nbformat": 4,
 "nbformat_minor": 2
}
